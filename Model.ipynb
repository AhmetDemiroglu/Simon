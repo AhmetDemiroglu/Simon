{
  "nbformat": 4,
  "nbformat_minor": 0,
  "metadata": {
    "colab": {
      "provenance": [],
      "gpuType": "T4",
      "authorship_tag": "ABX9TyOpuagooxd3WZfdDLAROR9l",
      "include_colab_link": true
    },
    "kernelspec": {
      "name": "python3",
      "display_name": "Python 3"
    },
    "language_info": {
      "name": "python"
    },
    "accelerator": "GPU"
  },
  "cells": [
    {
      "cell_type": "markdown",
      "metadata": {
        "id": "view-in-github",
        "colab_type": "text"
      },
      "source": [
        "<a href=\"https://colab.research.google.com/github/AhmetDemiroglu/Simon/blob/main/Model.ipynb\" target=\"_parent\"><img src=\"https://colab.research.google.com/assets/colab-badge.svg\" alt=\"Open In Colab\"/></a>"
      ]
    },
    {
      "cell_type": "code",
      "execution_count": null,
      "metadata": {
        "colab": {
          "base_uri": "https://localhost:8080/"
        },
        "id": "oCqrcM2TCGiC",
        "outputId": "bd8e04bd-c474-406d-995c-5f0880c07c78"
      },
      "outputs": [
        {
          "output_type": "stream",
          "name": "stdout",
          "text": [
            "Requirement already satisfied: tensorflow in /usr/local/lib/python3.10/dist-packages (2.15.0)\n",
            "Requirement already satisfied: absl-py>=1.0.0 in /usr/local/lib/python3.10/dist-packages (from tensorflow) (1.4.0)\n",
            "Requirement already satisfied: astunparse>=1.6.0 in /usr/local/lib/python3.10/dist-packages (from tensorflow) (1.6.3)\n",
            "Requirement already satisfied: flatbuffers>=23.5.26 in /usr/local/lib/python3.10/dist-packages (from tensorflow) (24.3.25)\n",
            "Requirement already satisfied: gast!=0.5.0,!=0.5.1,!=0.5.2,>=0.2.1 in /usr/local/lib/python3.10/dist-packages (from tensorflow) (0.5.4)\n",
            "Requirement already satisfied: google-pasta>=0.1.1 in /usr/local/lib/python3.10/dist-packages (from tensorflow) (0.2.0)\n",
            "Requirement already satisfied: h5py>=2.9.0 in /usr/local/lib/python3.10/dist-packages (from tensorflow) (3.9.0)\n",
            "Requirement already satisfied: libclang>=13.0.0 in /usr/local/lib/python3.10/dist-packages (from tensorflow) (18.1.1)\n",
            "Requirement already satisfied: ml-dtypes~=0.2.0 in /usr/local/lib/python3.10/dist-packages (from tensorflow) (0.2.0)\n",
            "Requirement already satisfied: numpy<2.0.0,>=1.23.5 in /usr/local/lib/python3.10/dist-packages (from tensorflow) (1.25.2)\n",
            "Requirement already satisfied: opt-einsum>=2.3.2 in /usr/local/lib/python3.10/dist-packages (from tensorflow) (3.3.0)\n",
            "Requirement already satisfied: packaging in /usr/local/lib/python3.10/dist-packages (from tensorflow) (24.0)\n",
            "Requirement already satisfied: protobuf!=4.21.0,!=4.21.1,!=4.21.2,!=4.21.3,!=4.21.4,!=4.21.5,<5.0.0dev,>=3.20.3 in /usr/local/lib/python3.10/dist-packages (from tensorflow) (3.20.3)\n",
            "Requirement already satisfied: setuptools in /usr/local/lib/python3.10/dist-packages (from tensorflow) (67.7.2)\n",
            "Requirement already satisfied: six>=1.12.0 in /usr/local/lib/python3.10/dist-packages (from tensorflow) (1.16.0)\n",
            "Requirement already satisfied: termcolor>=1.1.0 in /usr/local/lib/python3.10/dist-packages (from tensorflow) (2.4.0)\n",
            "Requirement already satisfied: typing-extensions>=3.6.6 in /usr/local/lib/python3.10/dist-packages (from tensorflow) (4.11.0)\n",
            "Requirement already satisfied: wrapt<1.15,>=1.11.0 in /usr/local/lib/python3.10/dist-packages (from tensorflow) (1.14.1)\n",
            "Requirement already satisfied: tensorflow-io-gcs-filesystem>=0.23.1 in /usr/local/lib/python3.10/dist-packages (from tensorflow) (0.37.0)\n",
            "Requirement already satisfied: grpcio<2.0,>=1.24.3 in /usr/local/lib/python3.10/dist-packages (from tensorflow) (1.63.0)\n",
            "Requirement already satisfied: tensorboard<2.16,>=2.15 in /usr/local/lib/python3.10/dist-packages (from tensorflow) (2.15.2)\n",
            "Requirement already satisfied: tensorflow-estimator<2.16,>=2.15.0 in /usr/local/lib/python3.10/dist-packages (from tensorflow) (2.15.0)\n",
            "Requirement already satisfied: keras<2.16,>=2.15.0 in /usr/local/lib/python3.10/dist-packages (from tensorflow) (2.15.0)\n",
            "Requirement already satisfied: wheel<1.0,>=0.23.0 in /usr/local/lib/python3.10/dist-packages (from astunparse>=1.6.0->tensorflow) (0.43.0)\n",
            "Requirement already satisfied: google-auth<3,>=1.6.3 in /usr/local/lib/python3.10/dist-packages (from tensorboard<2.16,>=2.15->tensorflow) (2.27.0)\n",
            "Requirement already satisfied: google-auth-oauthlib<2,>=0.5 in /usr/local/lib/python3.10/dist-packages (from tensorboard<2.16,>=2.15->tensorflow) (1.2.0)\n",
            "Requirement already satisfied: markdown>=2.6.8 in /usr/local/lib/python3.10/dist-packages (from tensorboard<2.16,>=2.15->tensorflow) (3.6)\n",
            "Requirement already satisfied: requests<3,>=2.21.0 in /usr/local/lib/python3.10/dist-packages (from tensorboard<2.16,>=2.15->tensorflow) (2.31.0)\n",
            "Requirement already satisfied: tensorboard-data-server<0.8.0,>=0.7.0 in /usr/local/lib/python3.10/dist-packages (from tensorboard<2.16,>=2.15->tensorflow) (0.7.2)\n",
            "Requirement already satisfied: werkzeug>=1.0.1 in /usr/local/lib/python3.10/dist-packages (from tensorboard<2.16,>=2.15->tensorflow) (3.0.3)\n",
            "Requirement already satisfied: cachetools<6.0,>=2.0.0 in /usr/local/lib/python3.10/dist-packages (from google-auth<3,>=1.6.3->tensorboard<2.16,>=2.15->tensorflow) (5.3.3)\n",
            "Requirement already satisfied: pyasn1-modules>=0.2.1 in /usr/local/lib/python3.10/dist-packages (from google-auth<3,>=1.6.3->tensorboard<2.16,>=2.15->tensorflow) (0.4.0)\n",
            "Requirement already satisfied: rsa<5,>=3.1.4 in /usr/local/lib/python3.10/dist-packages (from google-auth<3,>=1.6.3->tensorboard<2.16,>=2.15->tensorflow) (4.9)\n",
            "Requirement already satisfied: requests-oauthlib>=0.7.0 in /usr/local/lib/python3.10/dist-packages (from google-auth-oauthlib<2,>=0.5->tensorboard<2.16,>=2.15->tensorflow) (1.3.1)\n",
            "Requirement already satisfied: charset-normalizer<4,>=2 in /usr/local/lib/python3.10/dist-packages (from requests<3,>=2.21.0->tensorboard<2.16,>=2.15->tensorflow) (3.3.2)\n",
            "Requirement already satisfied: idna<4,>=2.5 in /usr/local/lib/python3.10/dist-packages (from requests<3,>=2.21.0->tensorboard<2.16,>=2.15->tensorflow) (3.7)\n",
            "Requirement already satisfied: urllib3<3,>=1.21.1 in /usr/local/lib/python3.10/dist-packages (from requests<3,>=2.21.0->tensorboard<2.16,>=2.15->tensorflow) (2.0.7)\n",
            "Requirement already satisfied: certifi>=2017.4.17 in /usr/local/lib/python3.10/dist-packages (from requests<3,>=2.21.0->tensorboard<2.16,>=2.15->tensorflow) (2024.2.2)\n",
            "Requirement already satisfied: MarkupSafe>=2.1.1 in /usr/local/lib/python3.10/dist-packages (from werkzeug>=1.0.1->tensorboard<2.16,>=2.15->tensorflow) (2.1.5)\n",
            "Requirement already satisfied: pyasn1<0.7.0,>=0.4.6 in /usr/local/lib/python3.10/dist-packages (from pyasn1-modules>=0.2.1->google-auth<3,>=1.6.3->tensorboard<2.16,>=2.15->tensorflow) (0.6.0)\n",
            "Requirement already satisfied: oauthlib>=3.0.0 in /usr/local/lib/python3.10/dist-packages (from requests-oauthlib>=0.7.0->google-auth-oauthlib<2,>=0.5->tensorboard<2.16,>=2.15->tensorflow) (3.2.2)\n",
            "Requirement already satisfied: numpy in /usr/local/lib/python3.10/dist-packages (1.25.2)\n",
            "Requirement already satisfied: matplotlib in /usr/local/lib/python3.10/dist-packages (3.7.1)\n",
            "Requirement already satisfied: contourpy>=1.0.1 in /usr/local/lib/python3.10/dist-packages (from matplotlib) (1.2.1)\n",
            "Requirement already satisfied: cycler>=0.10 in /usr/local/lib/python3.10/dist-packages (from matplotlib) (0.12.1)\n",
            "Requirement already satisfied: fonttools>=4.22.0 in /usr/local/lib/python3.10/dist-packages (from matplotlib) (4.51.0)\n",
            "Requirement already satisfied: kiwisolver>=1.0.1 in /usr/local/lib/python3.10/dist-packages (from matplotlib) (1.4.5)\n",
            "Requirement already satisfied: numpy>=1.20 in /usr/local/lib/python3.10/dist-packages (from matplotlib) (1.25.2)\n",
            "Requirement already satisfied: packaging>=20.0 in /usr/local/lib/python3.10/dist-packages (from matplotlib) (24.0)\n",
            "Requirement already satisfied: pillow>=6.2.0 in /usr/local/lib/python3.10/dist-packages (from matplotlib) (9.4.0)\n",
            "Requirement already satisfied: pyparsing>=2.3.1 in /usr/local/lib/python3.10/dist-packages (from matplotlib) (3.1.2)\n",
            "Requirement already satisfied: python-dateutil>=2.7 in /usr/local/lib/python3.10/dist-packages (from matplotlib) (2.8.2)\n",
            "Requirement already satisfied: six>=1.5 in /usr/local/lib/python3.10/dist-packages (from python-dateutil>=2.7->matplotlib) (1.16.0)\n",
            "Requirement already satisfied: pillow in /usr/local/lib/python3.10/dist-packages (9.4.0)\n"
          ]
        }
      ],
      "source": [
        "!pip install tensorflow\n",
        "!pip install numpy\n",
        "!pip install matplotlib\n",
        "!pip install pillow"
      ]
    },
    {
      "cell_type": "code",
      "source": [
        "from google.colab import drive\n",
        "drive.mount('/content/drive')"
      ],
      "metadata": {
        "colab": {
          "base_uri": "https://localhost:8080/"
        },
        "id": "5B7whtGmh_o1",
        "outputId": "bc30a52b-8aa3-4808-97f0-c45086fa755e"
      },
      "execution_count": null,
      "outputs": [
        {
          "output_type": "stream",
          "name": "stdout",
          "text": [
            "Mounted at /content/drive\n"
          ]
        }
      ]
    },
    {
      "cell_type": "code",
      "source": [
        "import tensorflow as tf\n",
        "print(\"Num GPUs Available: \", len(tf.config.experimental.list_physical_devices('GPU')))"
      ],
      "metadata": {
        "colab": {
          "base_uri": "https://localhost:8080/"
        },
        "id": "p3AsEolsjSqr",
        "outputId": "978ed651-22e2-4029-ef77-b6be96761fab"
      },
      "execution_count": null,
      "outputs": [
        {
          "output_type": "stream",
          "name": "stdout",
          "text": [
            "Num GPUs Available:  1\n"
          ]
        }
      ]
    },
    {
      "cell_type": "code",
      "source": [
        "import json\n",
        "import os\n",
        "import shutil\n",
        "from PIL import Image\n",
        "from concurrent.futures import ThreadPoolExecutor\n",
        "\n",
        "# JSON verilerini yükle\n",
        "with open('/content/drive/MyDrive/setid.json') as f:\n",
        "    set_ids = json.load(f)\n",
        "\n",
        "with open('/content/drive/MyDrive/imagelabels.json') as f:\n",
        "    labels = json.load(f)['labels']\n",
        "\n",
        "# Klasör yapılarını oluştur\n",
        "base_dir = '/content/oxford_flowers102'\n",
        "train_dir = os.path.join(base_dir, 'train')\n",
        "val_dir = os.path.join(base_dir, 'val')\n",
        "test_dir = os.path.join(base_dir, 'test')\n",
        "\n",
        "# Klasörleri oluştur\n",
        "for dir_path in [train_dir, val_dir, test_dir]:\n",
        "    for i in range(1, 103):  # 102 sınıf var\n",
        "        os.makedirs(os.path.join(dir_path, str(i)), exist_ok=True)\n",
        "\n",
        "# Görüntüleri kontrol etme ve taşıma işlemini paralel hale getirme\n",
        "def process_image(idx, label):\n",
        "    file_name = f'image_{idx:05d}.jpg'\n",
        "    src_file_path = os.path.join('/content/drive/MyDrive/images', file_name)\n",
        "    try:\n",
        "        # Görüntü dosyasını açmayı deneyin\n",
        "        with Image.open(src_file_path) as img:\n",
        "            img.verify()  # Görüntünün bozuk olup olmadığını kontrol edin\n",
        "        # Görüntü dosyasını doğru klasöre taşıyın\n",
        "        if idx in set_ids['trnid']:\n",
        "            dest_dir = train_dir\n",
        "        elif idx in set_ids['valid']:\n",
        "            dest_dir = val_dir\n",
        "        else:\n",
        "            dest_dir = test_dir\n",
        "        dest_file_path = os.path.join(dest_dir, str(label), file_name)\n",
        "        shutil.copy(src_file_path, dest_file_path)\n",
        "    except (IOError, SyntaxError) as e:\n",
        "        print(f'Bozuk dosya atlandı: {src_file_path}')\n",
        "\n",
        "# Paralel işlem yürütme\n",
        "with ThreadPoolExecutor(max_workers=8) as executor:\n",
        "    executor.map(lambda x: process_image(x[0], x[1]), enumerate(labels, 1))\n",
        "\n",
        "print(\"Veri seti başarıyla hazırlandı ve bozuk dosyalar atlandı.\")"
      ],
      "metadata": {
        "colab": {
          "base_uri": "https://localhost:8080/"
        },
        "id": "p6mwKxlvCyci",
        "outputId": "25eab546-fc17-4982-9c85-03d00c1cf4d0"
      },
      "execution_count": null,
      "outputs": [
        {
          "output_type": "stream",
          "name": "stdout",
          "text": [
            "Veri seti başarıyla hazırlandı ve bozuk dosyalar atlandı.\n"
          ]
        }
      ]
    },
    {
      "cell_type": "code",
      "source": [
        "import tensorflow as tf\n",
        "from tensorflow.keras.preprocessing.image import ImageDataGenerator\n",
        "from tensorflow.keras.models import Sequential\n",
        "from tensorflow.keras.layers import Dense, Dropout, GlobalAveragePooling2D\n",
        "from tensorflow.keras.applications import InceptionV3\n",
        "from tensorflow.keras.callbacks import EarlyStopping, ReduceLROnPlateau\n",
        "\n",
        "# Google Colab'da GPU kullanımı\n",
        "print(\"Num GPUs Available: \", len(tf.config.experimental.list_physical_devices('GPU')))\n",
        "\n",
        "# Veri seti ön işleme ve artırma\n",
        "train_datagen = ImageDataGenerator(\n",
        "    rescale=1./255,\n",
        "    shear_range=0.2,\n",
        "    zoom_range=0.2,\n",
        "    horizontal_flip=True\n",
        ")\n",
        "val_datagen = ImageDataGenerator(rescale=1./255)\n",
        "test_datagen = ImageDataGenerator(rescale=1./255)\n",
        "\n",
        "train_generator = train_datagen.flow_from_directory(\n",
        "    '/content/oxford_flowers102/train',\n",
        "    target_size=(224, 224),\n",
        "    batch_size=32,\n",
        "    class_mode='categorical'\n",
        ")\n",
        "val_generator = val_datagen.flow_from_directory(\n",
        "    '/content/oxford_flowers102/val',\n",
        "    target_size=(224, 224),\n",
        "    batch_size=32,\n",
        "    class_mode='categorical'\n",
        ")\n",
        "test_generator = test_datagen.flow_from_directory(\n",
        "    '/content/oxford_flowers102/test',\n",
        "    target_size=(224, 224),\n",
        "    batch_size=32,\n",
        "    class_mode='categorical'\n",
        ")\n",
        "\n",
        "# Model oluşturma (InceptionV3 kullanarak)\n",
        "base_model = InceptionV3(weights='imagenet', include_top=False, input_shape=(224, 224, 3))\n",
        "base_model.trainable = True  # Transfer öğrenme için temel modelin bazı katmanlarını eğitime aç\n",
        "\n",
        "# Temel modelin sadece son birkaç katmanını eğitime aç\n",
        "for layer in base_model.layers[:-50]:\n",
        "    layer.trainable = False\n",
        "\n",
        "model = Sequential([\n",
        "    base_model,\n",
        "    GlobalAveragePooling2D(),\n",
        "    Dense(512, activation='relu'),\n",
        "    Dropout(0.5),\n",
        "    Dense(102, activation='softmax')\n",
        "])\n",
        "\n",
        "# Modeli derleme\n",
        "model.compile(optimizer=tf.keras.optimizers.Adam(learning_rate=0.0001), loss='categorical_crossentropy', metrics=['accuracy'])\n",
        "\n",
        "# Erken durdurma ve öğrenme oranı azaltıcı\n",
        "early_stopping = EarlyStopping(monitor='val_loss', patience=10, restore_best_weights=True)\n",
        "reduce_lr = ReduceLROnPlateau(monitor='val_loss', factor=0.2, patience=5, min_lr=0.00001)\n",
        "\n",
        "# Modeli eğitme\n",
        "history = model.fit(\n",
        "    train_generator,\n",
        "    epochs=50,  # Daha fazla epoch ile eğitmek\n",
        "    validation_data=val_generator,\n",
        "    callbacks=[early_stopping, reduce_lr],\n",
        "    verbose=1\n",
        ")\n",
        "\n",
        "# Eğitim sürecini görselleştirme\n",
        "import matplotlib.pyplot as plt\n",
        "\n",
        "acc = history.history['accuracy']\n",
        "val_acc = history.history['val_accuracy']\n",
        "loss = history.history['loss']\n",
        "val_loss = history.history['val_loss']\n",
        "\n",
        "epochs_range = range(len(acc))\n",
        "\n",
        "plt.figure(figsize=(8, 8))\n",
        "plt.subplot(1, 2, 1)\n",
        "plt.plot(epochs_range, acc, label='Training Accuracy')\n",
        "plt.plot(epochs_range, val_acc, label='Validation Accuracy')\n",
        "plt.legend(loc='lower right')\n",
        "plt.title('Training and Validation Accuracy')\n",
        "\n",
        "plt.subplot(1, 2, 2)\n",
        "plt.plot(epochs_range, loss, label='Training Loss')\n",
        "plt.plot(epochs_range, val_loss, label='Validation Loss')\n",
        "plt.legend(loc='upper right')\n",
        "plt.title('Training and Validation Loss')\n",
        "plt.show()\n",
        "\n",
        "# Modeli değerlendirme\n",
        "test_loss, test_acc = model.evaluate(test_generator)\n",
        "print(f'\\nTest doğruluğu: {test_acc}')"
      ],
      "metadata": {
        "colab": {
          "base_uri": "https://localhost:8080/",
          "height": 1000
        },
        "id": "B7tPFaz5x2Pa",
        "outputId": "0ec0ec31-7799-4883-f108-0bf45bcaa69c"
      },
      "execution_count": null,
      "outputs": [
        {
          "output_type": "stream",
          "name": "stdout",
          "text": [
            "Num GPUs Available:  1\n",
            "Found 1020 images belonging to 102 classes.\n",
            "Found 1020 images belonging to 102 classes.\n",
            "Found 6149 images belonging to 102 classes.\n",
            "Downloading data from https://storage.googleapis.com/tensorflow/keras-applications/inception_v3/inception_v3_weights_tf_dim_ordering_tf_kernels_notop.h5\n",
            "87910968/87910968 [==============================] - 0s 0us/step\n",
            "Epoch 1/50\n",
            "32/32 [==============================] - 39s 646ms/step - loss: 4.5849 - accuracy: 0.0431 - val_loss: 4.1554 - val_accuracy: 0.1245 - lr: 1.0000e-04\n",
            "Epoch 2/50\n",
            "32/32 [==============================] - 19s 614ms/step - loss: 3.8198 - accuracy: 0.2480 - val_loss: 3.4604 - val_accuracy: 0.2873 - lr: 1.0000e-04\n",
            "Epoch 3/50\n",
            "32/32 [==============================] - 17s 539ms/step - loss: 3.0343 - accuracy: 0.4216 - val_loss: 2.6891 - val_accuracy: 0.4735 - lr: 1.0000e-04\n",
            "Epoch 4/50\n",
            "32/32 [==============================] - 17s 539ms/step - loss: 2.2931 - accuracy: 0.5627 - val_loss: 2.1234 - val_accuracy: 0.6000 - lr: 1.0000e-04\n",
            "Epoch 5/50\n",
            "32/32 [==============================] - 19s 598ms/step - loss: 1.6461 - accuracy: 0.7137 - val_loss: 1.7008 - val_accuracy: 0.6735 - lr: 1.0000e-04\n",
            "Epoch 6/50\n",
            "32/32 [==============================] - 17s 547ms/step - loss: 1.1572 - accuracy: 0.8069 - val_loss: 1.4233 - val_accuracy: 0.7059 - lr: 1.0000e-04\n",
            "Epoch 7/50\n",
            "32/32 [==============================] - 17s 545ms/step - loss: 0.8505 - accuracy: 0.8627 - val_loss: 1.2532 - val_accuracy: 0.7314 - lr: 1.0000e-04\n",
            "Epoch 8/50\n",
            "32/32 [==============================] - 18s 554ms/step - loss: 0.6366 - accuracy: 0.9020 - val_loss: 1.1230 - val_accuracy: 0.7578 - lr: 1.0000e-04\n",
            "Epoch 9/50\n",
            "32/32 [==============================] - 20s 623ms/step - loss: 0.4558 - accuracy: 0.9392 - val_loss: 1.0365 - val_accuracy: 0.7686 - lr: 1.0000e-04\n",
            "Epoch 10/50\n",
            "32/32 [==============================] - 17s 546ms/step - loss: 0.3489 - accuracy: 0.9471 - val_loss: 0.9559 - val_accuracy: 0.7784 - lr: 1.0000e-04\n",
            "Epoch 11/50\n",
            "32/32 [==============================] - 17s 538ms/step - loss: 0.2673 - accuracy: 0.9706 - val_loss: 0.9099 - val_accuracy: 0.7902 - lr: 1.0000e-04\n",
            "Epoch 12/50\n",
            "32/32 [==============================] - 19s 614ms/step - loss: 0.1967 - accuracy: 0.9833 - val_loss: 0.8659 - val_accuracy: 0.7892 - lr: 1.0000e-04\n",
            "Epoch 13/50\n",
            "32/32 [==============================] - 18s 560ms/step - loss: 0.1568 - accuracy: 0.9775 - val_loss: 0.8480 - val_accuracy: 0.7892 - lr: 1.0000e-04\n",
            "Epoch 14/50\n",
            "32/32 [==============================] - 17s 549ms/step - loss: 0.1468 - accuracy: 0.9784 - val_loss: 0.8183 - val_accuracy: 0.7912 - lr: 1.0000e-04\n",
            "Epoch 15/50\n",
            "32/32 [==============================] - 17s 544ms/step - loss: 0.1090 - accuracy: 0.9931 - val_loss: 0.7966 - val_accuracy: 0.8020 - lr: 1.0000e-04\n",
            "Epoch 16/50\n",
            "32/32 [==============================] - 19s 604ms/step - loss: 0.0835 - accuracy: 0.9980 - val_loss: 0.7781 - val_accuracy: 0.8127 - lr: 1.0000e-04\n",
            "Epoch 17/50\n",
            "32/32 [==============================] - 18s 555ms/step - loss: 0.0653 - accuracy: 0.9971 - val_loss: 0.7725 - val_accuracy: 0.8088 - lr: 1.0000e-04\n",
            "Epoch 18/50\n",
            "32/32 [==============================] - 20s 614ms/step - loss: 0.0708 - accuracy: 0.9951 - val_loss: 0.7594 - val_accuracy: 0.8078 - lr: 1.0000e-04\n",
            "Epoch 19/50\n",
            "32/32 [==============================] - 17s 544ms/step - loss: 0.0615 - accuracy: 0.9941 - val_loss: 0.7545 - val_accuracy: 0.8127 - lr: 1.0000e-04\n",
            "Epoch 20/50\n",
            "32/32 [==============================] - 19s 608ms/step - loss: 0.0542 - accuracy: 0.9931 - val_loss: 0.7384 - val_accuracy: 0.8137 - lr: 1.0000e-04\n",
            "Epoch 21/50\n",
            "32/32 [==============================] - 17s 545ms/step - loss: 0.0432 - accuracy: 0.9961 - val_loss: 0.7368 - val_accuracy: 0.8176 - lr: 1.0000e-04\n",
            "Epoch 22/50\n",
            "32/32 [==============================] - 17s 541ms/step - loss: 0.0408 - accuracy: 0.9971 - val_loss: 0.7128 - val_accuracy: 0.8157 - lr: 1.0000e-04\n",
            "Epoch 23/50\n",
            "32/32 [==============================] - 18s 551ms/step - loss: 0.0385 - accuracy: 0.9961 - val_loss: 0.7062 - val_accuracy: 0.8235 - lr: 1.0000e-04\n",
            "Epoch 24/50\n",
            "32/32 [==============================] - 17s 544ms/step - loss: 0.0388 - accuracy: 0.9990 - val_loss: 0.7006 - val_accuracy: 0.8294 - lr: 1.0000e-04\n",
            "Epoch 25/50\n",
            "32/32 [==============================] - 19s 586ms/step - loss: 0.0309 - accuracy: 0.9990 - val_loss: 0.6925 - val_accuracy: 0.8255 - lr: 1.0000e-04\n",
            "Epoch 26/50\n",
            "32/32 [==============================] - 18s 561ms/step - loss: 0.0318 - accuracy: 0.9990 - val_loss: 0.6874 - val_accuracy: 0.8284 - lr: 1.0000e-04\n",
            "Epoch 27/50\n",
            "32/32 [==============================] - 17s 541ms/step - loss: 0.0280 - accuracy: 0.9971 - val_loss: 0.6931 - val_accuracy: 0.8206 - lr: 1.0000e-04\n",
            "Epoch 28/50\n",
            "32/32 [==============================] - 17s 535ms/step - loss: 0.0293 - accuracy: 0.9971 - val_loss: 0.6914 - val_accuracy: 0.8265 - lr: 1.0000e-04\n",
            "Epoch 29/50\n",
            "32/32 [==============================] - 18s 542ms/step - loss: 0.0243 - accuracy: 0.9971 - val_loss: 0.6948 - val_accuracy: 0.8216 - lr: 1.0000e-04\n",
            "Epoch 30/50\n",
            "32/32 [==============================] - 17s 542ms/step - loss: 0.0219 - accuracy: 0.9990 - val_loss: 0.6935 - val_accuracy: 0.8186 - lr: 1.0000e-04\n",
            "Epoch 31/50\n",
            "32/32 [==============================] - 18s 571ms/step - loss: 0.0233 - accuracy: 1.0000 - val_loss: 0.6760 - val_accuracy: 0.8225 - lr: 1.0000e-04\n",
            "Epoch 32/50\n",
            "32/32 [==============================] - 17s 536ms/step - loss: 0.0213 - accuracy: 0.9980 - val_loss: 0.6816 - val_accuracy: 0.8314 - lr: 1.0000e-04\n",
            "Epoch 33/50\n",
            "32/32 [==============================] - 19s 611ms/step - loss: 0.0133 - accuracy: 1.0000 - val_loss: 0.6682 - val_accuracy: 0.8225 - lr: 1.0000e-04\n",
            "Epoch 34/50\n",
            "32/32 [==============================] - 18s 554ms/step - loss: 0.0128 - accuracy: 0.9990 - val_loss: 0.6542 - val_accuracy: 0.8314 - lr: 1.0000e-04\n",
            "Epoch 35/50\n",
            "32/32 [==============================] - 17s 532ms/step - loss: 0.0173 - accuracy: 1.0000 - val_loss: 0.6580 - val_accuracy: 0.8255 - lr: 1.0000e-04\n",
            "Epoch 36/50\n",
            "32/32 [==============================] - 20s 623ms/step - loss: 0.0135 - accuracy: 1.0000 - val_loss: 0.6502 - val_accuracy: 0.8284 - lr: 1.0000e-04\n",
            "Epoch 37/50\n",
            "32/32 [==============================] - 17s 543ms/step - loss: 0.0174 - accuracy: 0.9990 - val_loss: 0.6483 - val_accuracy: 0.8235 - lr: 1.0000e-04\n",
            "Epoch 38/50\n",
            "32/32 [==============================] - 17s 540ms/step - loss: 0.0104 - accuracy: 1.0000 - val_loss: 0.6553 - val_accuracy: 0.8294 - lr: 1.0000e-04\n",
            "Epoch 39/50\n",
            "32/32 [==============================] - 17s 542ms/step - loss: 0.0136 - accuracy: 0.9980 - val_loss: 0.6603 - val_accuracy: 0.8314 - lr: 1.0000e-04\n",
            "Epoch 40/50\n",
            "32/32 [==============================] - 18s 577ms/step - loss: 0.0134 - accuracy: 1.0000 - val_loss: 0.6556 - val_accuracy: 0.8333 - lr: 1.0000e-04\n",
            "Epoch 41/50\n",
            "32/32 [==============================] - 17s 538ms/step - loss: 0.0135 - accuracy: 0.9990 - val_loss: 0.6578 - val_accuracy: 0.8275 - lr: 1.0000e-04\n",
            "Epoch 42/50\n",
            "32/32 [==============================] - 17s 540ms/step - loss: 0.0110 - accuracy: 0.9990 - val_loss: 0.6512 - val_accuracy: 0.8294 - lr: 1.0000e-04\n",
            "Epoch 43/50\n",
            "32/32 [==============================] - 17s 539ms/step - loss: 0.0109 - accuracy: 0.9990 - val_loss: 0.6509 - val_accuracy: 0.8304 - lr: 2.0000e-05\n",
            "Epoch 44/50\n",
            "32/32 [==============================] - 17s 545ms/step - loss: 0.0095 - accuracy: 1.0000 - val_loss: 0.6497 - val_accuracy: 0.8304 - lr: 2.0000e-05\n",
            "Epoch 45/50\n",
            "32/32 [==============================] - 17s 538ms/step - loss: 0.0079 - accuracy: 1.0000 - val_loss: 0.6488 - val_accuracy: 0.8324 - lr: 2.0000e-05\n",
            "Epoch 46/50\n",
            "32/32 [==============================] - 17s 547ms/step - loss: 0.0078 - accuracy: 1.0000 - val_loss: 0.6454 - val_accuracy: 0.8343 - lr: 2.0000e-05\n",
            "Epoch 47/50\n",
            "32/32 [==============================] - 17s 540ms/step - loss: 0.0095 - accuracy: 1.0000 - val_loss: 0.6455 - val_accuracy: 0.8314 - lr: 2.0000e-05\n",
            "Epoch 48/50\n",
            "32/32 [==============================] - 19s 602ms/step - loss: 0.0088 - accuracy: 0.9990 - val_loss: 0.6427 - val_accuracy: 0.8333 - lr: 2.0000e-05\n",
            "Epoch 49/50\n",
            "32/32 [==============================] - 17s 546ms/step - loss: 0.0072 - accuracy: 1.0000 - val_loss: 0.6403 - val_accuracy: 0.8373 - lr: 2.0000e-05\n",
            "Epoch 50/50\n",
            "32/32 [==============================] - 17s 545ms/step - loss: 0.0076 - accuracy: 1.0000 - val_loss: 0.6394 - val_accuracy: 0.8382 - lr: 2.0000e-05\n"
          ]
        },
        {
          "output_type": "display_data",
          "data": {
            "text/plain": [
              "<Figure size 800x800 with 2 Axes>"
            ],
            "image/png": "[encoded data removed]"
          },
          "metadata": {}
        },
        {
          "output_type": "stream",
          "name": "stdout",
          "text": [
            "193/193 [==============================] - 23s 117ms/step - loss: 0.7404 - accuracy: 0.8105\n",
            "\n",
            "Test doğruluğu: 0.8105382919311523\n"
          ]
        }
      ]
    },
    {
      "cell_type": "markdown",
      "source": [],
      "metadata": {
        "id": "TxJZDzULyxz-"
      }
    }
  ]
}